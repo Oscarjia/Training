{
 "cells": [
  {
   "cell_type": "markdown",
   "metadata": {},
   "source": [
    "## Assignment-03 First Step of Machine Learning: Model and Evaluation"
   ]
  },
  {
   "cell_type": "markdown",
   "metadata": {},
   "source": [
    "同学们，今天我们的学习了基本的机器学习概念，相比你已经对机器学习的这些方法有一个基本的认识了。值得说明的是，机器学习不仅仅是一系列方法，更重要的是一种思维体系，即：依据以往的、现有的数据，构建某种方法来解决未见过的问题。而且决策树，贝叶斯只是实现这个目标的一个方法，包括之后的神经网络。很有可能有一天，神经网络也会被淘汰，但是重要的是我们要理解机器学习的目标，就是尽可能的自动化解决未知的问题。"
   ]
  },
  {
   "cell_type": "markdown",
   "metadata": {},
   "source": [
    "![](https://timgsa.baidu.com/timg?image&quality=80&size=b9999_10000&sec=1571556399207&di=4a97dc15ad08dd49d3748d1edf6109b3&imgtype=0&src=http%3A%2F%2Fc.hiphotos.baidu.com%2Fzhidao%2Fwh%3D450%2C600%2Fsign%3Dae742c6aedcd7b89e93932873a146e91%2F5d6034a85edf8db1b16050c40223dd54574e74c7.jpg)"
   ]
  },
  {
   "cell_type": "markdown",
   "metadata": {},
   "source": [
    "## Part-1 Programming Review 编程回顾"
   ]
  },
  {
   "cell_type": "markdown",
   "metadata": {},
   "source": [
    "#### 1. Re-code the Linear-Regression Model using scikit-learning(10 points)"
   ]
  },
  {
   "cell_type": "markdown",
   "metadata": {},
   "source": [
    "<评阅点>： \n",
    "> + 是否完成线性回归模型 (4')\n",
    "+ 能够进行预测新数据(3')\n",
    "+ 能够进行可视化操作(3')"
   ]
  },
  {
   "cell_type": "code",
   "execution_count": 104,
   "metadata": {},
   "outputs": [
    {
     "name": "stdout",
     "output_type": "stream",
     "text": [
      "(506, 13)\n",
      "(506,)\n"
     ]
    },
    {
     "data": {
      "text/plain": [
       "array(['CRIM', 'ZN', 'INDUS', 'CHAS', 'NOX', 'RM', 'AGE', 'DIS', 'RAD',\n",
       "       'TAX', 'PTRATIO', 'B', 'LSTAT'], dtype='<U7')"
      ]
     },
     "execution_count": 104,
     "metadata": {},
     "output_type": "execute_result"
    }
   ],
   "source": [
    "# you code here\n",
    "from sklearn.datasets import load_boston\n",
    "import numpy as np\n",
    "import random\n",
    "dataset = load_boston()\n",
    "x,y=dataset['data'],dataset['target']\n",
    "print (x.shape)\n",
    "print (y.shape)\n",
    "dataset.feature_names"
   ]
  },
  {
   "cell_type": "code",
   "execution_count": 105,
   "metadata": {},
   "outputs": [
    {
     "data": {
      "text/plain": [
       "<matplotlib.collections.PathCollection at 0x11e6f5588>"
      ]
     },
     "execution_count": 105,
     "metadata": {},
     "output_type": "execute_result"
    },
    {
     "data": {
      "image/png": "[encoded data removed]",
      "text/plain": [
       "<Figure size 432x288 with 1 Axes>"
      ]
     },
     "metadata": {
      "needs_background": "light"
     },
     "output_type": "display_data"
    }
   ],
   "source": [
    "#X的第五列\n",
    "X_rm = x[:,5]\n",
    "# plot the RM with respect to y\n",
    "import matplotlib.pyplot as plt\n",
    "%matplotlib inline\n",
    "plt.scatter(X_rm,y)"
   ]
  },
  {
   "cell_type": "code",
   "execution_count": 106,
   "metadata": {},
   "outputs": [
    {
     "name": "stdout",
     "output_type": "stream",
     "text": [
      "0.7406426641094094\n",
      "Linear regression coefficients from sklearn are: [-1.08011358e-01  4.64204584e-02  2.05586264e-02  2.68673382e+00\n",
      " -1.77666112e+01  3.80986521e+00  6.92224640e-04 -1.47556685e+00\n",
      "  3.06049479e-01 -1.23345939e-02 -9.52747232e-01  9.31168327e-03\n",
      " -5.24758378e-01]\n",
      "Linear regression intercept from sklearn is: 36.45948838508994\n"
     ]
    }
   ],
   "source": [
    "import icecream as ic\n",
    "from sklearn.linear_model import LinearRegression\n",
    "reg = LinearRegression().fit(x, y)\n",
    "print (reg.score(x, y))\n",
    "print ('Linear regression coefficients from sklearn are:' , reg.coef_)\n",
    "print ('Linear regression intercept from sklearn is:', reg.intercept_ )"
   ]
  },
  {
   "cell_type": "markdown",
   "metadata": {},
   "source": [
    "#### 2. Complete the unfinished KNN Model using pure python to solve the previous Line-Regression problem. (8 points)"
   ]
  },
  {
   "cell_type": "markdown",
   "metadata": {},
   "source": [
    "<评阅点>:\n",
    "> + 是否完成了KNN模型 (4')\n",
    "+ 是否能够预测新的数据 (4')"
   ]
  },
  {
   "cell_type": "markdown",
   "metadata": {},
   "source": [
    "### KNN classifier and KNN regressor"
   ]
  },
  {
   "cell_type": "code",
   "execution_count": 107,
   "metadata": {},
   "outputs": [
    {
     "name": "stdout",
     "output_type": "stream",
     "text": [
      "0.0057030013836377735\n",
      "0.0\n"
     ]
    }
   ],
   "source": [
    "# you code here\n",
    "def model(x, y):\n",
    "    return [(xi, yi) for xi, yi in zip(x, y)]\n",
    "\n",
    "from scipy.spatial.distance import cosine\n",
    "def distance(x1, x2):\n",
    "    return cosine(x1, x2)\n",
    "\n",
    "print (distance(x[0], x[1]))\n",
    "print (distance(x[0], x[0]))\n",
    "\n",
    "from collections import Counter\n",
    "def predict(testInstance, type='regression', k=5):\n",
    "    distances = [distance(testInstance, i) for i in x]\n",
    "    #print (distances)\n",
    "    kneighbors = np.argsort(distances)[:k]\n",
    "    ###Returns the indices that would sort an array\n",
    "    #print (kneighbors)\n",
    "    count = Counter(y[kneighbors])\n",
    "    if type=='regression':\n",
    "        print (y[kneighbors])\n",
    "        return  print ('predicted value is: ' ,np.mean(y[kneighbors]))\n",
    "    else:\n",
    "        print (count)\n",
    "        return print ('predicted value is: ' , count.most_common()[0][0])\n",
    "#most_similars = sorted(model(X, y), key=lambda xi: distance(xi[0], x))[:k]"
   ]
  },
  {
   "cell_type": "code",
   "execution_count": 108,
   "metadata": {},
   "outputs": [
    {
     "name": "stdout",
     "output_type": "stream",
     "text": [
      "[24.  22.2 20.1 23.9 22.9]\n",
      "predicted value is:  22.620000000000005\n"
     ]
    }
   ],
   "source": [
    "predict(x[0], type='regression', k=5)"
   ]
  },
  {
   "cell_type": "code",
   "execution_count": 109,
   "metadata": {},
   "outputs": [
    {
     "name": "stdout",
     "output_type": "stream",
     "text": [
      "Counter({24.0: 1, 22.2: 1, 20.1: 1, 23.9: 1, 22.9: 1})\n",
      "predicted value is:  24.0\n"
     ]
    }
   ],
   "source": [
    "predict(x[0], type='classification', k=5)"
   ]
  },
  {
   "cell_type": "markdown",
   "metadata": {},
   "source": [
    "#### 3. Re-code the Decision Tree, which could sort the features by salience. (12 points)"
   ]
  },
  {
   "cell_type": "markdown",
   "metadata": {},
   "source": [
    "<评阅点>\n",
    "> + 是否实现了信息熵 (1' )\n",
    "+ 是否实现了最优先特征点的选择(5')\n",
    "+ 是否实现了持续的特征选则(6')"
   ]
  },
  {
   "cell_type": "code",
   "execution_count": 110,
   "metadata": {},
   "outputs": [
    {
     "data": {
      "text/html": [
       "<div>\n",
       "<table border=\"1\" class=\"dataframe\">\n",
       "  <thead>\n",
       "    <tr style=\"text-align: right;\">\n",
       "      <th></th>\n",
       "      <th>bought</th>\n",
       "      <th>family_number</th>\n",
       "      <th>gender</th>\n",
       "      <th>income</th>\n",
       "    </tr>\n",
       "  </thead>\n",
       "  <tbody>\n",
       "    <tr>\n",
       "      <th>0</th>\n",
       "      <td>1</td>\n",
       "      <td>1</td>\n",
       "      <td>F</td>\n",
       "      <td>+10</td>\n",
       "    </tr>\n",
       "    <tr>\n",
       "      <th>1</th>\n",
       "      <td>1</td>\n",
       "      <td>1</td>\n",
       "      <td>F</td>\n",
       "      <td>-10</td>\n",
       "    </tr>\n",
       "    <tr>\n",
       "      <th>2</th>\n",
       "      <td>1</td>\n",
       "      <td>2</td>\n",
       "      <td>F</td>\n",
       "      <td>+10</td>\n",
       "    </tr>\n",
       "    <tr>\n",
       "      <th>3</th>\n",
       "      <td>0</td>\n",
       "      <td>1</td>\n",
       "      <td>F</td>\n",
       "      <td>+10</td>\n",
       "    </tr>\n",
       "    <tr>\n",
       "      <th>4</th>\n",
       "      <td>0</td>\n",
       "      <td>1</td>\n",
       "      <td>M</td>\n",
       "      <td>+10</td>\n",
       "    </tr>\n",
       "    <tr>\n",
       "      <th>5</th>\n",
       "      <td>0</td>\n",
       "      <td>1</td>\n",
       "      <td>M</td>\n",
       "      <td>+10</td>\n",
       "    </tr>\n",
       "    <tr>\n",
       "      <th>6</th>\n",
       "      <td>1</td>\n",
       "      <td>2</td>\n",
       "      <td>M</td>\n",
       "      <td>-10</td>\n",
       "    </tr>\n",
       "  </tbody>\n",
       "</table>\n",
       "</div>"
      ],
      "text/plain": [
       "   bought  family_number gender income\n",
       "0       1              1      F    +10\n",
       "1       1              1      F    -10\n",
       "2       1              2      F    +10\n",
       "3       0              1      F    +10\n",
       "4       0              1      M    +10\n",
       "5       0              1      M    +10\n",
       "6       1              2      M    -10"
      ]
     },
     "execution_count": 110,
     "metadata": {},
     "output_type": "execute_result"
    }
   ],
   "source": [
    "# you code here\n",
    "from collections import Counter\n",
    "def entropy(elements):\n",
    "    counter = Counter(elements)\n",
    "    probs = [counter[c] / len(elements) for c in elements]\n",
    "    return - sum(p * np.log(p) for p in probs)\n",
    "\n",
    "mock_data = {\n",
    "    'gender':['F', 'F', 'F', 'F', 'M', 'M', 'M'],\n",
    "    'income': ['+10', '-10', '+10', '+10', '+10', '+10', '-10'],\n",
    "    'family_number': [1, 1, 2, 1, 1, 1, 2],\n",
    "    'bought': [1, 1, 1, 0, 0, 0, 1],\n",
    "}\n",
    "dataset = pd.DataFrame.from_dict(mock_data)\n",
    "dataset"
   ]
  },
  {
   "cell_type": "code",
   "execution_count": 129,
   "metadata": {},
   "outputs": [],
   "source": [
    "import numpy as np\n",
    "import pandas as pd\n",
    "from icecream import ic\n",
    "def sort_feature_by_importance(training_data: pd.DataFrame, target: str) -> str:\n",
    "    x_fields = set(training_data.columns.tolist()) - {target}\n",
    "    feature_entropy={}\n",
    "    \n",
    "    for f in x_fields:\n",
    "        ic(f)\n",
    "        values = set(training_data[f])\n",
    "        ic(values)\n",
    "        for v in values:\n",
    "            ic(v)\n",
    "            sub_1 = training_data[training_data[f] == v][target]\n",
    "            sub_spliter_1 = training_data[training_data[f] == v][target].tolist()\n",
    "            entropy_1 = entropy(sub_spliter_1)\n",
    "            ic(entropy_1)\n",
    "            sub_spliter_2 = training_data[training_data[f] != v][target].tolist()\n",
    "            entropy_2 = entropy(sub_spliter_2)\n",
    "            ic(entropy_2)\n",
    "            entropy_v = entropy_1 + entropy_2\n",
    "            ic(entropy_v)\n",
    "            feature_entropy[f]=entropy_v\n",
    "    sorted_features = dict(sorted(feature_entropy.items(), key=lambda x: x[1]))\n",
    "    print('Sort the features by salience:', sorted_features)\n",
    "    return sorted_features.keys()"
   ]
  },
  {
   "cell_type": "code",
   "execution_count": 130,
   "metadata": {},
   "outputs": [
    {
     "name": "stderr",
     "output_type": "stream",
     "text": [
      "ic| f: 'gender'\n",
      "ic| values: {'F', 'M'}\n",
      "ic| v: 'F'\n",
      "ic| entropy_1: 0.9938582532964797\n",
      "ic| entropy_2: 0.9068242403669224\n",
      "ic| entropy_v: 1.9006824936634021\n",
      "ic| v: 'M'\n",
      "ic| entropy_1: 0.9068242403669224\n",
      "ic| entropy_2: 0.9938582532964797\n",
      "ic| entropy_v: 1.9006824936634021\n",
      "ic| f: 'income'\n",
      "ic| values: {'-10', '+10'}\n",
      "ic| v: '-10'\n",
      "ic| entropy_1: -0.0\n",
      "ic| entropy_2: 1.6525187082781072\n",
      "ic| entropy_v: 1.6525187082781072\n",
      "ic| v: '+10'\n",
      "ic| entropy_1: 1.6525187082781072\n",
      "ic| entropy_2: -0.0\n",
      "ic| entropy_v: 1.6525187082781072\n",
      "ic| f: 'family_number'\n",
      "ic| values: {1, 2}\n",
      "ic| v: 1\n",
      "ic| entropy_1: 1.6525187082781072\n",
      "ic| entropy_2: -0.0\n",
      "ic| entropy_v: 1.6525187082781072\n",
      "ic| v: 2\n",
      "ic| entropy_1: -0.0\n",
      "ic| entropy_2: 1.6525187082781072\n",
      "ic| entropy_v: 1.6525187082781072\n"
     ]
    },
    {
     "name": "stdout",
     "output_type": "stream",
     "text": [
      "Sort the features by salience: {'income': 1.6525187082781072, 'family_number': 1.6525187082781072, 'gender': 1.9006824936634021}\n"
     ]
    },
    {
     "data": {
      "text/plain": [
       "dict_keys(['income', 'family_number', 'gender'])"
      ]
     },
     "execution_count": 130,
     "metadata": {},
     "output_type": "execute_result"
    }
   ],
   "source": [
    "sort_feature_by_importance(dataset, 'bought')"
   ]
  },
  {
   "cell_type": "markdown",
   "metadata": {},
   "source": [
    "#### 4. Finish the K-Means using 2-D matplotlib (8 points)"
   ]
  },
  {
   "cell_type": "markdown",
   "metadata": {},
   "source": [
    "<评阅点>\n",
    "> + 是否完成了KMeans模型，基于scikit-learning (3')\n",
    "+ 是否完成了可视化任务（5'）"
   ]
  },
  {
   "cell_type": "code",
   "execution_count": 88,
   "metadata": {},
   "outputs": [
    {
     "data": {
      "text/plain": [
       "<matplotlib.collections.PathCollection at 0x11d2aedd8>"
      ]
     },
     "execution_count": 88,
     "metadata": {},
     "output_type": "execute_result"
    },
    {
     "data": {
      "image/png": "[encoded data removed]",
      "text/plain": [
       "<Figure size 432x288 with 1 Axes>"
      ]
     },
     "metadata": {
      "needs_background": "light"
     },
     "output_type": "display_data"
    }
   ],
   "source": [
    "from sklearn.cluster import KMeans\n",
    "X = [random.randint(0, 100) for _ in range(100)]\n",
    "Y = [random.randint(0, 100) for _ in range(100)]\n",
    "plt.scatter(X, Y)"
   ]
  },
  {
   "cell_type": "code",
   "execution_count": 93,
   "metadata": {},
   "outputs": [
    {
     "data": {
      "text/plain": [
       "KMeans(algorithm='auto', copy_x=True, init='k-means++', max_iter=500,\n",
       "    n_clusters=6, n_init=10, n_jobs=None, precompute_distances='auto',\n",
       "    random_state=None, tol=0.0001, verbose=0)"
      ]
     },
     "execution_count": 93,
     "metadata": {},
     "output_type": "execute_result"
    }
   ],
   "source": [
    "tranning_data = [[x, y] for x, y in zip(X, Y)]\n",
    "cluster = KMeans(n_clusters=6, max_iter=500)\n",
    "cluster.fit(tranning_data)"
   ]
  },
  {
   "cell_type": "code",
   "execution_count": 94,
   "metadata": {},
   "outputs": [
    {
     "name": "stdout",
     "output_type": "stream",
     "text": [
      "[[57.2        79.48      ]\n",
      " [48.63636364 14.54545455]\n",
      " [16.73333333 32.53333333]\n",
      " [90.57142857 79.5       ]\n",
      " [84.         24.        ]\n",
      " [16.9375     76.625     ]]\n",
      "[5 0 4 3 2 4 0 0 1 2 5 2 1 4 4 3 2 0 3 2 3 1 1 5 4 4 0 2 3 5 0 3 0 3 0 0 0\n",
      " 4 5 2 1 0 4 0 0 0 0 5 4 0 0 4 1 2 4 5 0 5 0 5 5 3 4 5 0 4 1 0 2 1 4 3 0 1\n",
      " 1 2 5 3 2 2 4 4 0 4 3 3 2 5 2 5 5 4 2 5 1 3 0 4 0 3]\n"
     ]
    },
    {
     "data": {
      "image/png": "[encoded data removed]",
      "text/plain": [
       "<Figure size 432x288 with 1 Axes>"
      ]
     },
     "metadata": {
      "needs_background": "light"
     },
     "output_type": "display_data"
    }
   ],
   "source": [
    "print (cluster.cluster_centers_)\n",
    "print (cluster.labels_)\n",
    "from collections import defaultdict\n",
    "centers = defaultdict(list)\n",
    "for label, location in zip(cluster.labels_, tranning_data):\n",
    "    centers[label].append(location)\n",
    "color = ['red', 'green', 'grey', 'black', 'yellow', 'orange']\n",
    "for i, c in enumerate(centers):\n",
    "    for location in centers[c]:\n",
    "        plt.scatter(*location, c=color[i])\n",
    "        \n",
    "for center in cluster.cluster_centers_:\n",
    "    plt.scatter(*center, s=100)"
   ]
  },
  {
   "cell_type": "markdown",
   "metadata": {},
   "source": [
    "## Part-2 Question and Answer 问答"
   ]
  },
  {
   "cell_type": "markdown",
   "metadata": {},
   "source": [
    "#### 1. What's the *model*? why  all the models are wrong, but some are useful? (5 points) "
   ]
  },
  {
   "cell_type": "markdown",
   "metadata": {},
   "source": [
    "Ans: a model is trying to simplify a problem and get answer by observe historical data.<br>\n",
    "All models are wrong, because we are trying to simpliy the problem so we might miss some potential factors. But we say the model is useful since some good models include top factors in the mode, so the prediction will be close to ground truth.  "
   ]
  },
  {
   "cell_type": "markdown",
   "metadata": {},
   "source": [
    "<评阅点>\n",
    "> + 对模型的理解是否正确,对模型的抽象性是否正确(5')"
   ]
  },
  {
   "cell_type": "markdown",
   "metadata": {},
   "source": [
    "#### 2. What's the underfitting and overfitting? List the reasons that could make model overfitting or underfitting. (10 points)"
   ]
  },
  {
   "cell_type": "markdown",
   "metadata": {},
   "source": [
    "Ans: <br>\n",
    "Underfitting is accuracy of the model is low in both training and test dataset. \n",
    "The model is too simple that did not capture the full relationship between X and Y. Additional Xs or transformation of Xs need to be added to the model, or using a more complicated algorithm for fitting.\n",
    "\n",
    "\n",
    "Overfitting is the model's accuracy is high for the training dataset but low for the test dataset.\n",
    "The cause for overfitting could be:  <br>\n",
    "1) the model is too smiple, not complicated enought to capture the full relationship <br>\n",
    "2) The training dataset is too small <br>\n",
    "3) The training dataset is only in certain range, while the test or the dataset needs to be predicted are in a different rage <br>\n",
    "4) The parameters for the model is too big <br>"
   ]
  },
  {
   "cell_type": "markdown",
   "metadata": {},
   "source": [
    "<评阅点>\n",
    "> + 对过拟合和欠拟合的理解是否正确 (3')\n",
    "+ 对欠拟合产生的原因是否理解正确(2')\n",
    "+ 对过拟合产生的原因是否理解正确(5')"
   ]
  },
  {
   "cell_type": "markdown",
   "metadata": {},
   "source": [
    "#### 3. What's the precision, recall, AUC, F1, F2score. What are they mainly target on? (12')"
   ]
  },
  {
   "cell_type": "markdown",
   "metadata": {},
   "source": [
    "Ans: <br>\n",
    "**Precision** = True Positive / (True Positive + False Positive) = True Positive /  All positive predicted <br>\n",
    "\n",
    "**Recall** = True Positive / (True Positive + False negative) = True positive / All positive in ground truth  <br>\n",
    "\n",
    "**F1 score** =  2* (Precision * recall) / (Precision +recall ) \n",
    "\n",
    "**AUC:** ROC curve is a probability curve that measure the performance of classification problem. AUC means area under the ROC curve, which measures the degree of separability. The x-axis of ROC curve is False positive rate (1 - Specificity ). The y-axis of ROC curve is True positive rate ( also called sensitivity) \n",
    "\n",
    "**Sensitivity **(also called true positive rate) = True postive / ( True positive + False negative) <br>\n",
    "\n",
    "**Specificity **(also called true negative rate) = True Negative / ( True Negative + False Positive) <br>\n",
    "\n",
    "**F2 score:**<br>\n",
    "The general formula for the F-score is the following:\n",
    "\n",
    "𝐹 score =(1+β2)⋅𝑝𝑟𝑒𝑐𝑖𝑠𝑖𝑜𝑛⋅𝑟𝑒𝑐𝑎𝑙𝑙 /((β2⋅𝑝𝑟𝑒𝑐𝑖𝑠𝑖𝑜𝑛)+𝑟𝑒𝑐𝑎𝑙𝑙)\n",
    "where β is a positive real. For the F2 score, you just set β equal to 2. The intuition behind the F2 score is that it weights recall higher than precision. This makes the F2 score more suitable in certain applications where it’s more important to classify correctly as many positive samples as possible, rather than maximizing the number of correct classifications.<br>\n",
    "\n",
    "Reference:\n",
    "https://en.wikipedia.org/wiki/Sensitivity_and_specificity <br>\n",
    "https://en.wikipedia.org/wiki/Receiver_operating_characteristic <br>\n",
    "https://www.quora.com/What-is-the-F2-score-in-machine-learning <br>\n"
   ]
  },
  {
   "cell_type": "markdown",
   "metadata": {},
   "source": [
    "<评阅点>\n",
    "> + 对precision, recall, AUC, F1, F2 理解是否正确(6‘)\n",
    "+ 对precision, recall, AUC, F1, F2的使用侧重点是否理解正确 (6’)"
   ]
  },
  {
   "cell_type": "markdown",
   "metadata": {},
   "source": [
    "#### 4. Based on our course and yourself mind, what's the machine learning?  (8')"
   ]
  },
  {
   "cell_type": "markdown",
   "metadata": {},
   "source": [
    "Ans: Machine learning uses historical data try to find the relationship between independent variables and dependent variables or patterns in independent variablse themselves, it relies on statistical probability. <br>\n",
    "\n",
    "While classicial programming are more rule based. "
   ]
  },
  {
   "cell_type": "markdown",
   "metadata": {},
   "source": [
    "<评阅点> 开放式问题，是否能说出来机器学习这种思维方式和传统的分析式编程的区别（8'）"
   ]
  },
  {
   "cell_type": "markdown",
   "metadata": {},
   "source": [
    "#### 5. \"正确定义了机器学习模型的评价标准(evaluation)， 问题基本上就已经解决一半\". 这句话是否正确？你是怎么看待的？ (8‘)"
   ]
  },
  {
   "cell_type": "markdown",
   "metadata": {},
   "source": [
    "<评阅点> 开放式问题，主要看能理解评价指标对机器学习模型的重要性.\n",
    "\n",
    "I think the evaluatoin here means cost function. We need to define cost function as the first step of machine learning and either maxmize or minimize the function. When it applies to business, we also need to consider the cost of each wrong case (e.g. the cost of false positive and false negative might be quite different in different use case) while evaluating a model. \n",
    "\n",
    "So I agree that it solves half of the problem, the rest of problems remain on select a good model and hyperparamters."
   ]
  },
  {
   "cell_type": "markdown",
   "metadata": {},
   "source": [
    "## Part-03 Programming Practice 编程练习"
   ]
  },
  {
   "cell_type": "markdown",
   "metadata": {},
   "source": [
    "1. In our course and previous practice, we complete some importance components of Decision Tree. In this problem, you need to build a **completed** Decision Tree Model. You show finish a `predicate()` function, which accepts three parameters **<gender, income, family_number>**, and outputs the predicated 'bought': 1 or 0.  (20 points)"
   ]
  },
  {
   "cell_type": "code",
   "execution_count": 131,
   "metadata": {},
   "outputs": [
    {
     "name": "stderr",
     "output_type": "stream",
     "text": [
      "ic| f: 'gender'\n",
      "ic| values: {'F', 'M'}\n",
      "ic| v: 'F'\n",
      "ic| entropy_1: 0.9938582532964797\n",
      "ic| entropy_2: 0.9068242403669224\n",
      "ic| entropy_v: 1.9006824936634021\n",
      "ic| v: 'M'\n",
      "ic| entropy_1: 0.9068242403669224\n",
      "ic| entropy_2: 0.9938582532964797\n",
      "ic| entropy_v: 1.9006824936634021\n",
      "ic| f: 'income'\n",
      "ic| values: {'-10', '+10'}\n",
      "ic| v: '-10'\n",
      "ic| entropy_1: -0.0\n",
      "ic| entropy_2: 1.6525187082781072\n",
      "ic| entropy_v: 1.6525187082781072\n",
      "ic| v: '+10'\n",
      "ic| entropy_1: 1.6525187082781072\n",
      "ic| entropy_2: -0.0\n",
      "ic| entropy_v: 1.6525187082781072\n",
      "ic| f: 'family_number'\n",
      "ic| values: {1, 2}\n",
      "ic| v: 1\n",
      "ic| entropy_1: 1.6525187082781072\n",
      "ic| entropy_2: -0.0\n",
      "ic| entropy_v: 1.6525187082781072\n",
      "ic| v: 2\n",
      "ic| entropy_1: -0.0\n",
      "ic| entropy_2: 1.6525187082781072\n",
      "ic| entropy_v: 1.6525187082781072\n"
     ]
    },
    {
     "name": "stdout",
     "output_type": "stream",
     "text": [
      "Sort the features by salience: {'income': 1.6525187082781072, 'family_number': 1.6525187082781072, 'gender': 1.9006824936634021}\n"
     ]
    },
    {
     "data": {
      "text/plain": [
       "dict_keys(['income', 'family_number', 'gender'])"
      ]
     },
     "execution_count": 131,
     "metadata": {},
     "output_type": "execute_result"
    }
   ],
   "source": [
    "sorted_features=sort_feature_by_importance(dataset, 'bought')\n",
    "sorted_features"
   ]
  },
  {
   "cell_type": "code",
   "execution_count": 133,
   "metadata": {},
   "outputs": [],
   "source": [
    "test_case={'income': -10, 'family_number': 1, 'gender': 'M'}"
   ]
  },
  {
   "cell_type": "code",
   "execution_count": 144,
   "metadata": {},
   "outputs": [
    {
     "data": {
      "text/plain": [
       "1"
      ]
     },
     "execution_count": 144,
     "metadata": {},
     "output_type": "execute_result"
    }
   ],
   "source": [
    "Counter(dataset['bought']).most_common()[0][0]"
   ]
  },
  {
   "cell_type": "code",
   "execution_count": 145,
   "metadata": {},
   "outputs": [
    {
     "data": {
      "text/plain": [
       "dict_keys(['income', 'family_number', 'gender'])"
      ]
     },
     "execution_count": 145,
     "metadata": {},
     "output_type": "execute_result"
    }
   ],
   "source": [
    "sorted_features"
   ]
  },
  {
   "cell_type": "markdown",
   "metadata": {},
   "source": [
    "### 这一题不会做，没写出来，空着"
   ]
  },
  {
   "cell_type": "raw",
   "metadata": {},
   "source": [
    "def get_predict(dataset):\n",
    "    sorted_features=sort_feature_by_importance(dataset, 'bought')\n",
    "    for i in sorted_features:\n",
    "        if len(dataset[i]==test_case[i])>0:\n",
    "            sub=dataset[dataset[i]==test_case[i]]\n",
    "            if ？？？\n",
    "        \n",
    "        else:\n",
    "            ##value of the test case for the 1st(most) important variable does not exist\n",
    "            sorted_features.remove(i)"
   ]
  },
  {
   "cell_type": "markdown",
   "metadata": {},
   "source": [
    "<评阅点>\n",
    "> + 是否将之前的决策树模型的部分进行合并组装， predict函数能够顺利运行(8')\n",
    "+ 是够能够输入未曾见过的X变量，例如gender, income, family_number 分别是： <M, -10, 1>, 模型能够预测出结果 (12')"
   ]
  },
  {
   "cell_type": "markdown",
   "metadata": {},
   "source": [
    "2. 将上一节课(第二节课)的线性回归问题中的Loss函数改成\"绝对值\"，并且改变其偏导的求值方式，观察其结果的变化。(19 point)"
   ]
  },
  {
   "cell_type": "markdown",
   "metadata": {},
   "source": [
    "$$ loss = \\frac{1}{n} \\sum{|y_i - (kx_i + b_i)|} $$"
   ]
  },
  {
   "cell_type": "code",
   "execution_count": 51,
   "metadata": {},
   "outputs": [],
   "source": [
    "# you code here\n",
    "#loss function based mean absolute difference\n",
    "def loss2(y,y_hat):\n",
    "    return sum(np.absolute(y_i - y_hat_i) for y_i, y_hat_i in zip(list(y),list(y_hat)))/len(list(y))"
   ]
  },
  {
   "cell_type": "markdown",
   "metadata": {},
   "source": [
    "$$ \\frac{\\partial{loss}}{\\partial{k}} =  -\\frac{1}{n}\\sum \\frac{y_i-\\hat{y_i}}{|y_i-\\hat{y_i}|}\\ x_i$$ \n",
    "\n",
    "$$ \\frac{\\partial{loss}}{\\partial{b}} = -\\frac{1}{n}\\sum \\frac{y_i-\\hat{y_i}}{|y_i-\\hat{y_i}|}\\ $$ "
   ]
  },
  {
   "cell_type": "code",
   "execution_count": 57,
   "metadata": {},
   "outputs": [],
   "source": [
    "# define partial derivative \n",
    "def partial_derivative_k(x, y, y_hat):\n",
    "    n = len(y)\n",
    "    gradient = 0\n",
    "    for x_i, y_i, y_hat_i in zip(list(x),list(y),list(y_hat)):\n",
    "        gradient += (y_i-y_hat_i)/ np.absolute(y_i - y_hat_i) * x_i\n",
    "    return -1/n * gradient\n",
    "\n",
    "def partial_derivative_b(y, y_hat):\n",
    "    n = len(y)\n",
    "    gradient = 0\n",
    "    for y_i, y_hat_i in zip(list(y),list(y_hat)):\n",
    "        gradient += (y_i-y_hat_i)/np.absolute(y_i-y_hat_i)\n",
    "    return -1 / n * gradient"
   ]
  },
  {
   "cell_type": "markdown",
   "metadata": {},
   "source": [
    "#### update the paramters with -gradient * learning rate"
   ]
  },
  {
   "cell_type": "code",
   "execution_count": 68,
   "metadata": {},
   "outputs": [
    {
     "name": "stdout",
     "output_type": "stream",
     "text": [
      "Iteration 0, the loss is 489.47887247411074, parameters k is -83.84213831438174 and b is 59.97111940966735\n",
      "Iteration 1, the loss is 449.2587966326328, parameters k is -77.59816043469719 and b is 60.95007715461557\n",
      "Iteration 2, the loss is 412.3349436236702, parameters k is -71.86587225446502 and b is 61.84859474788084\n",
      "Iteration 3, the loss is 378.43717281691517, parameters k is -66.60333844882788 and b is 62.67326463512818\n",
      "Iteration 4, the loss is 347.3174828498916, parameters k is -61.77206048578569 and b is 63.43013898076201\n",
      "Iteration 5, the loss is 318.7481972130746, parameters k is -57.33669496520482 and b is 64.12477394646179\n",
      "Iteration 6, the loss is 292.52029853465643, parameters k is -53.26479504124194 and b is 64.76227034088794\n",
      "Iteration 7, the loss is 268.4418993783392, parameters k is -49.526573036389976 and b is 65.34731093795725\n",
      "Iteration 8, the loss is 246.33683836629163, parameters k is -46.0946825103956 and b is 65.88419473671392\n",
      "Iteration 9, the loss is 226.04339135628422, parameters k is -42.944018189631755 and b is 66.3768684134465\n",
      "Iteration 10, the loss is 207.41308824379362, parameters k is -40.05153229317884 and b is 66.82895519615907\n",
      "Iteration 11, the loss is 190.30962673261715, parameters k is -37.39606591182882 and b is 67.24378137264667\n",
      "Iteration 12, the loss is 174.60787512698545, parameters k is -34.95819420635595 and b is 67.6244006261119\n",
      "Iteration 13, the loss is 160.19295684944865, parameters k is -32.72008429250155 and b is 67.97361637636588\n",
      "Iteration 14, the loss is 146.95940998674007, parameters k is -30.665364772938343 and b is 68.29400229006478\n",
      "Iteration 15, the loss is 134.8104157147158, parameters k is -28.779005961690714 and b is 68.58792111003827\n",
      "Iteration 16, the loss is 123.65708995742841, parameters k is -27.047209924714906 and b is 68.8575419414677\n",
      "Iteration 17, the loss is 113.41783309799726, parameters k is -25.45730953215972 and b is 69.10485612138255\n",
      "Iteration 18, the loss is 104.01773298366318, parameters k is -23.99767578375902 and b is 69.33169178757855\n",
      "Iteration 19, the loss is 95.38801685732949, parameters k is -22.65763272933479 and b is 69.53972725354588\n",
      "Iteration 20, the loss is 87.46554820583378, parameters k is -21.427379361956486 and b is 69.73050328726053\n",
      "Iteration 21, the loss is 80.19236484381986, parameters k is -20.297917912315466 and b is 69.9054343836722\n",
      "Iteration 22, the loss is 73.51525485376196, parameters k is -19.260988019705383 and b is 70.06581911335984\n",
      "Iteration 23, the loss is 67.38536727965476, parameters k is -18.309006297993697 and b is 70.21284962306736\n",
      "Iteration 24, the loss is 61.75785472614873, parameters k is -17.43501085443994 and b is 70.34762035762667\n",
      "Iteration 25, the loss is 56.591545248329496, parameters k is -16.632610355452137 and b is 70.47113606707896\n",
      "Iteration 26, the loss is 51.848641131640434, parameters k is -15.895937266638883 and b is 70.58431915757562\n",
      "Iteration 27, the loss is 47.494442358176904, parameters k is -15.219604925054362 and b is 70.6880164398389\n",
      "Iteration 28, the loss is 43.497092736190105, parameters k is -14.598668129570415 and b is 70.78300532455526\n",
      "Iteration 29, the loss is 39.83599368668116, parameters k is -14.028586961048985 and b is 70.86999951002764\n",
      "Iteration 30, the loss is 36.49989349213502, parameters k is -13.505193567617946 and b is 70.94965420369853\n",
      "Iteration 31, the loss is 33.440760634493294, parameters k is -13.024661672046399 and b is 71.02257091574513\n",
      "Iteration 32, the loss is 30.64349681922099, parameters k is -12.583478578130922 and b is 71.0893018598174\n",
      "Iteration 33, the loss is 28.09680126930556, parameters k is -12.178419471287269 and b is 71.15035399311523\n",
      "Iteration 34, the loss is 25.799632422449793, parameters k is -11.806523825326858 and b is 71.20619272536291\n",
      "Iteration 35, the loss is 23.71823667835884, parameters k is -11.465073742806501 and b is 71.25724532381588\n",
      "Iteration 36, the loss is 21.839681924483468, parameters k is -11.151574070486143 and b is 71.3039040392116\n",
      "Iteration 37, the loss is 20.15506370224487, parameters k is -10.863734144416357 and b is 71.34652897553435\n",
      "Iteration 38, the loss is 18.640172964235497, parameters k is -10.599451031099925 and b is 71.3854507245896\n",
      "Iteration 39, the loss is 17.292146758858397, parameters k is -10.35679414211734 and b is 71.42097278466285\n",
      "Iteration 40, the loss is 16.097031734805036, parameters k is -10.133991109654573 and b is 71.4533737809583\n",
      "Iteration 41, the loss is 15.029744019880221, parameters k is -9.929414819596321 and b is 71.4829095040623\n",
      "Iteration 42, the loss is 14.093468558996651, parameters k is -9.741571507316939 and b is 71.50981478134544\n",
      "Iteration 43, the loss is 13.29544756122311, parameters k is -9.5690898290761 and b is 71.53430519499443\n",
      "Iteration 44, the loss is 12.60731299880895, parameters k is -9.410710829063861 and b is 71.5565786592436\n",
      "Iteration 45, the loss is 12.024680584707157, parameters k is -9.265278728692563 and b is 71.57681686834485\n",
      "Iteration 46, the loss is 11.53810452238033, parameters k is -9.131732470748647 and b is 71.59518662586986\n",
      "Iteration 47, the loss is 11.129102497712944, parameters k is -9.009097956540142 and b is 71.61184106506987\n",
      "Iteration 48, the loss is 10.7961132689998, parameters k is -8.896480919245638 and b is 71.62692076922133\n",
      "Iteration 49, the loss is 10.53103650326145, parameters k is -8.79306038132511 and b is 71.64055480015412\n",
      "Iteration 50, the loss is 10.32181741844133, parameters k is -8.698082648126036 and b is 71.65286164248711\n",
      "Iteration 51, the loss is 10.162396199675833, parameters k is -8.610855793741127 and b is 71.66395007047925\n",
      "Iteration 52, the loss is 10.045877209244997, parameters k is -8.530744598775403 and b is 71.67391994383826\n",
      "Iteration 53, the loss is 9.955497388205565, parameters k is -8.457165902986544 and b is 71.68286293830916\n",
      "Iteration 54, the loss is 9.897086180383049, parameters k is -8.389584338797757 and b is 71.69086321638765\n",
      "Iteration 55, the loss is 9.863707974560173, parameters k is -8.327508414468893 and b is 71.6979980430655\n",
      "Iteration 56, the loss is 9.84385936406296, parameters k is -8.27048691826972 and b is 71.70433835111265\n",
      "Iteration 57, the loss is 9.833647241372043, parameters k is -8.218105617347744 and b is 71.70994926003205\n",
      "Iteration 58, the loss is 9.832057743422137, parameters k is -8.169984227139 and b is 71.71489055248355\n",
      "Iteration 59, the loss is 9.837954853446048, parameters k is -8.125773629149581 and b is 71.7192171116628\n",
      "Iteration 60, the loss is 9.84904227179146, parameters k is -8.08515331675277 and b is 71.72297932283487\n",
      "Iteration 61, the loss is 9.865896269603132, parameters k is -8.04782905031485 and b is 71.72622344196037\n",
      "Iteration 62, the loss is 9.884253115120442, parameters k is -8.013530704494151 and b is 71.72899193411095\n",
      "Iteration 63, the loss is 9.904734971849663, parameters k is -7.982010291963848 and b is 71.73132378415008\n",
      "Iteration 64, the loss is 9.924840016155763, parameters k is -7.9530401490997535 and b is 71.73325478195214\n",
      "Iteration 65, the loss is 9.943642808298119, parameters k is -7.926411270359369 and b is 71.7348177842465\n",
      "Iteration 66, the loss is 9.962069070771125, parameters k is -7.9019317791662225 and b is 71.73604295500222\n",
      "Iteration 67, the loss is 9.9796504725967, parameters k is -7.879425524112272 and b is 71.73695798611215\n",
      "Iteration 68, the loss is 9.996603618439526, parameters k is -7.858730790207992 and b is 71.73758829999097\n",
      "Iteration 69, the loss is 10.012341495239292, parameters k is -7.8396991157514355 and b is 71.73795723556938\n",
      "Iteration 70, the loss is 10.027680842139432, parameters k is -7.822194206160329 and b is 71.73808621904514\n",
      "Iteration 71, the loss is 10.043368331992673, parameters k is -7.80609093682062 and b is 71.73799492064043\n",
      "Iteration 72, the loss is 10.059319657510917, parameters k is -7.791274437656179 and b is 71.73770139851204\n",
      "Iteration 73, the loss is 10.07428589271266, parameters k is -7.777639252722225 and b is 71.73722223086762\n",
      "Iteration 74, the loss is 10.0880437915863, parameters k is -7.765088568673938 and b is 71.73657263725426\n",
      "Iteration 75, the loss is 10.101612968080897, parameters k is -7.753533506465618 and b is 71.73576658990702\n",
      "Iteration 76, the loss is 10.114497737081646, parameters k is -7.7428924710983615 and b is 71.73481691597186\n",
      "Iteration 77, the loss is 10.126471301621867, parameters k is -7.7330905546589035 and b is 71.733735391351\n",
      "Iteration 78, the loss is 10.13766461327555, parameters k is -7.724058988282175 and b is 71.73253282685715\n",
      "Iteration 79, the loss is 10.14824392735104, parameters k is -7.715734639028053 and b is 71.73121914730704\n",
      "Iteration 80, the loss is 10.158080663229159, parameters k is -7.708059547991376 and b is 71.72980346413289\n",
      "Iteration 81, the loss is 10.167229401221181, parameters k is -7.700980506265966 and b is 71.72829414204297\n",
      "Iteration 82, the loss is 10.175650069248306, parameters k is -7.694448665660353 and b is 71.72669886021912\n",
      "Iteration 83, the loss is 10.183364943987023, parameters k is -7.688419181317135 and b is 71.72502466849875\n",
      "Iteration 84, the loss is 10.190431868822417, parameters k is -7.682850883621332 and b is 71.72327803895253\n",
      "Iteration 85, the loss is 10.19690394660801, parameters k is -7.677705976997354 and b is 71.72146491323505\n",
      "Iteration 86, the loss is 10.202829928174037, parameters k is -7.672949763390943 and b is 71.71959074605483\n",
      "Iteration 87, the loss is 10.208292115389117, parameters k is -7.668550388413053 and b is 71.7176605450818\n",
      "Iteration 88, the loss is 10.213376717398226, parameters k is -7.664478608288388 and b is 71.71567890758418\n",
      "Iteration 89, the loss is 10.218092516248811, parameters k is -7.660707575903602 and b is 71.71365005406277\n",
      "Iteration 90, the loss is 10.222406158624253, parameters k is -7.6572126443898165 and b is 71.71157785912881\n",
      "Iteration 91, the loss is 10.226400357108442, parameters k is -7.653971186802464 and b is 71.70946587985117\n",
      "Iteration 92, the loss is 10.23011376496926, parameters k is -7.650962430579191 and b is 71.70731738178044\n",
      "Iteration 93, the loss is 10.233529157206958, parameters k is -7.648167305564708 and b is 71.70513536284021\n",
      "Iteration 94, the loss is 10.236648942184933, parameters k is -7.64556830449069 and b is 71.70292257526029\n",
      "Iteration 95, the loss is 10.239497346656066, parameters k is -7.643149354890003 and b is 71.70068154571248\n",
      "Iteration 96, the loss is 10.242150420068507, parameters k is -7.640895701508137 and b is 71.6984145937961\n",
      "Iteration 97, the loss is 10.244608740284844, parameters k is -7.638793798351577 and b is 71.69612384900846\n",
      "Iteration 98, the loss is 10.246849894172524, parameters k is -7.636831209583291 and b is 71.69381126632469\n",
      "Iteration 99, the loss is 10.248891679889041, parameters k is -7.634996518540308 and b is 71.69147864050056\n"
     ]
    }
   ],
   "source": [
    "#initialized parameters\n",
    "def price(rm, k, b):\n",
    "    return k * rm + b\n",
    "\n",
    "k = random.random() * 200 - 100  # -100 100\n",
    "b = random.random() * 200 - 100  # -100 100\n",
    "\n",
    "learning_rate = 1e-3\n",
    "\n",
    "iteration_num = 100 \n",
    "losses = []\n",
    "for i in range(iteration_num):\n",
    "    \n",
    "    price_use_current_parameters = [price(r, k, b) for r in X_rm]  # \\hat{y}\n",
    "    \n",
    "    current_loss = loss2(y, price_use_current_parameters)\n",
    "    losses.append(current_loss)\n",
    "    print(\"Iteration {}, the loss is {}, parameters k is {} and b is {}\".format(i,current_loss,k,b))\n",
    "    \n",
    "    k_gradient = partial_derivative_k(X_rm, y, price_use_current_parameters)\n",
    "    b_gradient = partial_derivative_b(y, price_use_current_parameters)\n",
    "    \n",
    "    #update the paramters with -gradient * learning rate\n",
    "    k = k + (-1 * k_gradient) * learning_rate\n",
    "    b = b + (-1 * b_gradient) * learning_rate\n",
    "best_k = k\n",
    "best_b = b"
   ]
  },
  {
   "cell_type": "markdown",
   "metadata": {},
   "source": [
    "<评阅点>\n",
    "+ 是否将Loss改成了“绝对值”(3')\n",
    "+ 是否完成了偏导的重新定义(5')\n",
    "+ 新的模型Loss是否能够收敛 (11’)"
   ]
  },
  {
   "cell_type": "markdown",
   "metadata": {},
   "source": [
    "### 比较用MSE作为loss funciton看结果是否有很大不同：\n",
    "$$ loss = \\frac{1}{n} \\sum{(y_i - \\hat{y_i})}^2$$"
   ]
  },
  {
   "cell_type": "code",
   "execution_count": 70,
   "metadata": {},
   "outputs": [],
   "source": [
    "# loss function based on MSE\n",
    "def loss(y,y_hat):\n",
    "    return sum((y_i - y_hat_i)**2 for y_i, y_hat_i in zip(list(y),list(y_hat)))/len(list(y))"
   ]
  },
  {
   "cell_type": "markdown",
   "metadata": {},
   "source": [
    "$$ \\frac{\\partial{loss}}{\\partial{k}} = -\\frac{2}{n}\\sum(y_i - \\hat{y_i})x_i$$\n",
    "\n",
    "$$ \\frac{\\partial{loss}}{\\partial{b}} = -\\frac{2}{n}\\sum(y_i - \\hat{y_i})$$"
   ]
  },
  {
   "cell_type": "code",
   "execution_count": 71,
   "metadata": {},
   "outputs": [],
   "source": [
    "def partial_derivative_k(x, y, y_hat):\n",
    "    n = len(y)\n",
    "    gradient = 0\n",
    "    for x_i, y_i, y_hat_i in zip(list(x),list(y),list(y_hat)):\n",
    "        gradient += (y_i-y_hat_i) * x_i\n",
    "    return -2/n * gradient\n",
    "\n",
    "def partial_derivative_b(y, y_hat):\n",
    "    n = len(y)\n",
    "    gradient = 0\n",
    "    for y_i, y_hat_i in zip(list(y),list(y_hat)):\n",
    "        gradient += (y_i-y_hat_i)\n",
    "    return -2 / n * gradient"
   ]
  },
  {
   "cell_type": "code",
   "execution_count": 72,
   "metadata": {},
   "outputs": [
    {
     "name": "stdout",
     "output_type": "stream",
     "text": [
      "Iteration 0, the loss is 182.3151604708673, parameters k is -7.5783889011578625 and b is 71.43597614266378\n",
      "Iteration 1, the loss is 182.30848914783968, parameters k is -7.577987548029883 and b is 71.43342461000455\n",
      "Iteration 2, the loss is 182.3018181456699, parameters k is -7.5775862236831495 and b is 71.43087313569531\n",
      "Iteration 3, the loss is 182.29514746434162, parameters k is -7.577184926549193 and b is 71.4283217199811\n",
      "Iteration 4, the loss is 182.28847710383852, parameters k is -7.57678365518807 and b is 71.42577036308678\n",
      "Iteration 5, the loss is 182.28180706414378, parameters k is -7.5763824082778255 and b is 71.42321906521867\n",
      "Iteration 6, the loss is 182.2751373452416, parameters k is -7.575981184604829 and b is 71.42066782656603\n",
      "Iteration 7, the loss is 182.26846794711514, parameters k is -7.575579983054891 and b is 71.41811664730251\n",
      "Iteration 8, the loss is 182.26179886974901, parameters k is -7.575178802605118 and b is 71.4155655275874\n",
      "Iteration 9, the loss is 182.25513011312736, parameters k is -7.574777642316426 and b is 71.41301446756682\n",
      "Iteration 10, the loss is 182.24846167723402, parameters k is -7.574376501326677 and b is 71.4104634673748\n",
      "Iteration 11, the loss is 182.24179356205366, parameters k is -7.573975378844368 and b is 71.40791252713424\n",
      "Iteration 12, the loss is 182.23512576757028, parameters k is -7.573574274142845 and b is 71.40536164695787\n",
      "Iteration 13, the loss is 182.22845829376828, parameters k is -7.573173186554988 and b is 71.40281082694906\n",
      "Iteration 14, the loss is 182.22179114063178, parameters k is -7.5727721154683305 and b is 71.40026006720258\n",
      "Iteration 15, the loss is 182.21512430814545, parameters k is -7.572371060320584 and b is 71.3977093678053\n",
      "Iteration 16, the loss is 182.20845779629383, parameters k is -7.571970020595519 and b is 71.39515872883688\n",
      "Iteration 17, the loss is 182.2017916050612, parameters k is -7.571568995819199 and b is 71.39260815037028\n",
      "Iteration 18, the loss is 182.19512573443205, parameters k is -7.571167985556505 and b is 71.39005763247242\n",
      "Iteration 19, the loss is 182.18846018439072, parameters k is -7.570766989407963 and b is 71.38750717520459\n",
      "Iteration 20, the loss is 182.1817949549224, parameters k is -7.570366007006817 and b is 71.38495677862292\n",
      "Iteration 21, the loss is 182.17513004601076, parameters k is -7.56996503801635 and b is 71.38240644277884\n",
      "Iteration 22, the loss is 182.16846545764076, parameters k is -7.56956408212742 and b is 71.37985616771944\n",
      "Iteration 23, the loss is 182.16180118979688, parameters k is -7.569163139056204 and b is 71.37730595348782\n",
      "Iteration 24, the loss is 182.1551372424636, parameters k is -7.568762208542119 and b is 71.37475580012344\n",
      "Iteration 25, the loss is 182.1484736156255, parameters k is -7.568361290345919 and b is 71.3722057076624\n",
      "Iteration 26, the loss is 182.14181030926738, parameters k is -7.567960384247947 and b is 71.36965567613773\n",
      "Iteration 27, the loss is 182.13514732337347, parameters k is -7.567559490046527 and b is 71.36710570557959\n",
      "Iteration 28, the loss is 182.12848465792862, parameters k is -7.567158607556496 and b is 71.36455579601561\n",
      "Iteration 29, the loss is 182.12182231291683, parameters k is -7.566757736607843 and b is 71.36200594747099\n",
      "Iteration 30, the loss is 182.11516028832352, parameters k is -7.566356877044474 and b is 71.35945615996876\n",
      "Iteration 31, the loss is 182.1084985841327, parameters k is -7.565956028723067 and b is 71.35690643352994\n",
      "Iteration 32, the loss is 182.101837200329, parameters k is -7.565555191512028 and b is 71.35435676817372\n",
      "Iteration 33, the loss is 182.09517613689704, parameters k is -7.565154365290528 and b is 71.35180716391756\n",
      "Iteration 34, the loss is 182.08851539382152, parameters k is -7.564753549947622 and b is 71.3492576207774\n",
      "Iteration 35, the loss is 182.08185497108727, parameters k is -7.564352745381438 and b is 71.34670813876774\n",
      "Iteration 36, the loss is 182.07519486867815, parameters k is -7.563951951498434 and b is 71.34415871790179\n",
      "Iteration 37, the loss is 182.0685350865795, parameters k is -7.563551168212715 and b is 71.34160935819153\n",
      "Iteration 38, the loss is 182.0618756247754, parameters k is -7.563150395445407 and b is 71.33906005964786\n",
      "Iteration 39, the loss is 182.0552164832507, parameters k is -7.562749633124082 and b is 71.33651082228064\n",
      "Iteration 40, the loss is 182.0485576619899, parameters k is -7.562348881182227 and b is 71.33396164609883\n",
      "Iteration 41, the loss is 182.04189916097772, parameters k is -7.561948139558761 and b is 71.33141253111052\n",
      "Iteration 42, the loss is 182.0352409801987, parameters k is -7.561547408197591 and b is 71.328863477323\n",
      "Iteration 43, the loss is 182.02858311963726, parameters k is -7.561146687047203 and b is 71.32631448474287\n",
      "Iteration 44, the loss is 182.02192557927808, parameters k is -7.560745976060283 and b is 71.32376555337606\n",
      "Iteration 45, the loss is 182.01526835910602, parameters k is -7.560345275193378 and b is 71.32121668322789\n",
      "Iteration 46, the loss is 182.00861145910534, parameters k is -7.559944584406576 and b is 71.31866787430312\n",
      "Iteration 47, the loss is 182.00195487926086, parameters k is -7.559543903663218 and b is 71.316119126606\n",
      "Iteration 48, the loss is 181.9952986195568, parameters k is -7.559143232929628 and b is 71.31357044014032\n",
      "Iteration 49, the loss is 181.98864267997848, parameters k is -7.558742572174875 and b is 71.31102181490944\n",
      "Iteration 50, the loss is 181.9819870605099, parameters k is -7.55834192137054 and b is 71.30847325091631\n",
      "Iteration 51, the loss is 181.97533176113583, parameters k is -7.5579412804905175 and b is 71.3059247481635\n",
      "Iteration 52, the loss is 181.968676781841, parameters k is -7.557540649510819 and b is 71.3033763066533\n",
      "Iteration 53, the loss is 181.96202212260982, parameters k is -7.557140028409405 and b is 71.30082792638767\n",
      "Iteration 54, the loss is 181.95536778342677, parameters k is -7.556739417166024 and b is 71.29827960736826\n",
      "Iteration 55, the loss is 181.94871376427693, parameters k is -7.556338815762063 and b is 71.2957313495965\n",
      "Iteration 56, the loss is 181.94206006514472, parameters k is -7.555938224180417 and b is 71.29318315307356\n",
      "Iteration 57, the loss is 181.93540668601437, parameters k is -7.555537642405363 and b is 71.29063501780041\n",
      "Iteration 58, the loss is 181.9287536268711, parameters k is -7.5551370704224485 and b is 71.28808694377781\n",
      "Iteration 59, the loss is 181.92210088769917, parameters k is -7.554736508218387 and b is 71.28553893100634\n",
      "Iteration 60, the loss is 181.9154484684831, parameters k is -7.554335955780958 and b is 71.28299097948641\n",
      "Iteration 61, the loss is 181.90879636920792, parameters k is -7.55393541309893 and b is 71.28044308921828\n",
      "Iteration 62, the loss is 181.90214458985773, parameters k is -7.553534880161968 and b is 71.27789526020206\n",
      "Iteration 63, the loss is 181.8954931304174, parameters k is -7.553134356960566 and b is 71.27534749243773\n",
      "Iteration 64, the loss is 181.8888419908718, parameters k is -7.55273384348598 and b is 71.27279978592516\n",
      "Iteration 65, the loss is 181.8821911712049, parameters k is -7.55233333973016 and b is 71.2702521406641\n",
      "Iteration 66, the loss is 181.8755406714018, parameters k is -7.551932845685701 and b is 71.26770455665421\n",
      "Iteration 67, the loss is 181.86889049144702, parameters k is -7.5515323613457825 and b is 71.26515703389505\n",
      "Iteration 68, the loss is 181.86224063132508, parameters k is -7.551131886704126 and b is 71.26260957238611\n",
      "Iteration 69, the loss is 181.85559109102084, parameters k is -7.550731421754948 and b is 71.26006217212678\n",
      "Iteration 70, the loss is 181.84894187051873, parameters k is -7.55033096649292 and b is 71.25751483311639\n",
      "Iteration 71, the loss is 181.8422929698034, parameters k is -7.549930520913132 and b is 71.2549675553542\n",
      "Iteration 72, the loss is 181.83564438885938, parameters k is -7.549530085011055 and b is 71.2524203388394\n",
      "Iteration 73, the loss is 181.8289961276714, parameters k is -7.5491296587825145 and b is 71.24987318357115\n",
      "Iteration 74, the loss is 181.8223481862241, parameters k is -7.548729242223659 and b is 71.24732608954855\n",
      "Iteration 75, the loss is 181.8157005645022, parameters k is -7.548328835330932 and b is 71.24477905677065\n",
      "Iteration 76, the loss is 181.80905326248978, parameters k is -7.547928438101052 and b is 71.24223208523645\n",
      "Iteration 77, the loss is 181.8024062801724, parameters k is -7.547528050530985 and b is 71.23968517494492\n",
      "Iteration 78, the loss is 181.79575961753363, parameters k is -7.547127672617928 and b is 71.23713832589499\n",
      "Iteration 79, the loss is 181.7891132745587, parameters k is -7.546727304359289 and b is 71.23459153808555\n",
      "Iteration 80, the loss is 181.7824672512325, parameters k is -7.546326945752668 and b is 71.2320448115155\n",
      "Iteration 81, the loss is 181.7758215475392, parameters k is -7.545926596795844 and b is 71.22949814618363\n",
      "Iteration 82, the loss is 181.76917616346347, parameters k is -7.5455262574867605 and b is 71.2269515420888\n",
      "Iteration 83, the loss is 181.76253109898974, parameters k is -7.545125927823507 and b is 71.22440499922978\n",
      "Iteration 84, the loss is 181.75588635410335, parameters k is -7.544725607804313 and b is 71.22185851760534\n",
      "Iteration 85, the loss is 181.74924192878834, parameters k is -7.544325297427534 and b is 71.21931209721423\n",
      "Iteration 86, the loss is 181.74259782302934, parameters k is -7.54392499669164 and b is 71.21676573805519\n",
      "Iteration 87, the loss is 181.73595403681128, parameters k is -7.543524705595209 and b is 71.21421944012693\n",
      "Iteration 88, the loss is 181.7293105701188, parameters k is -7.543124424136915 and b is 71.21167320342813\n",
      "Iteration 89, the loss is 181.72266742293607, parameters k is -7.542724152315523 and b is 71.2091270279575\n",
      "Iteration 90, the loss is 181.71602459524817, parameters k is -7.54232389012988 and b is 71.20658091371372\n",
      "Iteration 91, the loss is 181.70938208703967, parameters k is -7.5419236375789085 and b is 71.20403486069543\n",
      "Iteration 92, the loss is 181.70273989829468, parameters k is -7.5415233946616 and b is 71.20148886890128\n",
      "Iteration 93, the loss is 181.69609802899862, parameters k is -7.54112316137701 and b is 71.19894293832992\n",
      "Iteration 94, the loss is 181.68945647913588, parameters k is -7.540722937724253 and b is 71.19639706897998\n",
      "Iteration 95, the loss is 181.6828152486909, parameters k is -7.540322723702494 and b is 71.19385126085007\n",
      "Iteration 96, the loss is 181.6761743376484, parameters k is -7.539922519310952 and b is 71.19130551393881\n",
      "Iteration 97, the loss is 181.6695337459931, parameters k is -7.539522324548889 and b is 71.18875982824481\n",
      "Iteration 98, the loss is 181.66289347370966, parameters k is -7.539122139415608 and b is 71.18621420376668\n",
      "Iteration 99, the loss is 181.65625352078237, parameters k is -7.538721963910451 and b is 71.183668640503\n"
     ]
    }
   ],
   "source": [
    "#initialized parameters\n",
    "\n",
    "#k = random.random() * 200 - 100  # -100 100\n",
    "#b = random.random() * 200 - 100  # -100 100\n",
    "\n",
    "learning_rate = 1e-3\n",
    "\n",
    "iteration_num = 100 \n",
    "losses = []\n",
    "for i in range(iteration_num):\n",
    "    \n",
    "    price_use_current_parameters = [price(r, k, b) for r in X_rm]  # \\hat{y}\n",
    "    \n",
    "    current_loss = loss(y, price_use_current_parameters)\n",
    "    losses.append(current_loss)\n",
    "    print(\"Iteration {}, the loss is {}, parameters k is {} and b is {}\".format(i,current_loss,k,b))\n",
    "    \n",
    "    k_gradient = partial_derivative_k(X_rm, y, price_use_current_parameters)\n",
    "    b_gradient = partial_derivative_b(y, price_use_current_parameters)\n",
    "    \n",
    "    k = k + (-1 * k_gradient) * learning_rate\n",
    "    b = b + (-1 * b_gradient) * learning_rate\n",
    "best_k = k\n",
    "best_b = b"
   ]
  },
  {
   "cell_type": "markdown",
   "metadata": {},
   "source": [
    "Loss function ： Mean absolute difference： <br>\n",
    "Iteration 99, the loss is 10.248891679889041, parameters k is -7.634996518540308 and b is 71.69147864050056\n",
    "\n",
    "Loss function : MSE <br>\n",
    "Iteration 99, the loss is 181.65625352078237, parameters k is -7.538721963910451 and b is 71.183668640503   "
   ]
  },
  {
   "cell_type": "markdown",
   "metadata": {},
   "source": []
  },
  {
   "cell_type": "code",
   "execution_count": null,
   "metadata": {},
   "outputs": [],
   "source": []
  }
 ],
 "metadata": {
  "kernelspec": {
   "display_name": "Python 3",
   "language": "python",
   "name": "python3"
  },
  "language_info": {
   "codemirror_mode": {
    "name": "ipython",
    "version": 3
   },
   "file_extension": ".py",
   "mimetype": "text/x-python",
   "name": "python",
   "nbconvert_exporter": "python",
   "pygments_lexer": "ipython3",
   "version": "3.6.8"
  }
 },
 "nbformat": 4,
 "nbformat_minor": 2
}
