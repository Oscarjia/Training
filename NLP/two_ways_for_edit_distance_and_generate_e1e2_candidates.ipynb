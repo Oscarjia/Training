{
 "cells": [
  {
   "cell_type": "markdown",
   "metadata": {},
   "source": [
    "## Part 1: Two ways to get edit distance\n",
    "### Method 1: A Naive recursive Python program to fin minimum number \n",
    "modified from https://www.geeksforgeeks.org/edit-distance-dp-5/"
   ]
  },
  {
   "cell_type": "code",
   "execution_count": 2,
   "metadata": {},
   "outputs": [],
   "source": [
    "# operations to convert str1 to str2 \n",
    "def editDistance(str1, str2, m , n): \n",
    "  \n",
    "    # If first string is empty, the only option is to \n",
    "    # insert all characters of second string into first \n",
    "    if m==0: \n",
    "         return n \n",
    "  \n",
    "    # If second string is empty, the only option is to \n",
    "    # remove all characters of first string \n",
    "    if n==0: \n",
    "        return m \n",
    "  \n",
    "    # If last characters of two strings are same, nothing \n",
    "    # much to do. Ignore last characters and get count for \n",
    "    # remaining strings. \n",
    "    if str1[m-1]==str2[n-1]: \n",
    "        return editDistance(str1,str2,m-1,n-1) \n",
    "  \n",
    "    # If last characters are not same, consider all three \n",
    "    # operations on last character of first string, recursively \n",
    "    # compute minimum cost for all three operations and take \n",
    "    # minimum of three values. \n",
    "    return 1 + min(editDistance(str1, str2, m, n-1),    # Insert \n",
    "                   editDistance(str1, str2, m-1, n),    # Remove \n",
    "                   editDistance(str1, str2, m-1, n-1)    # Replace \n",
    "                   ) \n",
    "  "
   ]
  },
  {
   "cell_type": "code",
   "execution_count": 3,
   "metadata": {},
   "outputs": [
    {
     "name": "stdout",
     "output_type": "stream",
     "text": [
      "3\n"
     ]
    }
   ],
   "source": [
    "# Driver program to test the above function \n",
    "str1 = \"sunday\"\n",
    "str2 = \"saturday\"\n",
    "print (editDistance(str1, str2, len(str1), len(str2)) )"
   ]
  },
  {
   "cell_type": "markdown",
   "metadata": {},
   "source": [
    "#### check performance for method 1: "
   ]
  },
  {
   "cell_type": "code",
   "execution_count": 4,
   "metadata": {},
   "outputs": [
    {
     "name": "stdout",
     "output_type": "stream",
     "text": [
      "14\n",
      "My program took 6.950541973114014 to run\n"
     ]
    }
   ],
   "source": [
    "import time\n",
    "start_time = time.time()\n",
    "str1 = \"sundayewwoqodooii\"\n",
    "str2 = \"saturday\"\n",
    "print (editDistance(str1, str2, len(str1), len(str2)) )\n",
    "print (\"My program took\", time.time() - start_time, \"to run\")"
   ]
  },
  {
   "cell_type": "markdown",
   "metadata": {},
   "source": [
    "#### Run with @lru_cache to improve performance:"
   ]
  },
  {
   "cell_type": "code",
   "execution_count": 5,
   "metadata": {},
   "outputs": [
    {
     "name": "stdout",
     "output_type": "stream",
     "text": [
      "14\n",
      "My program took 0.009285211563110352 to run\n"
     ]
    }
   ],
   "source": [
    "from functools import lru_cache\n",
    "@lru_cache(maxsize=32)\n",
    "def editDistance(str1, str2, m , n): \n",
    "  \n",
    "    # If first string is empty, the only option is to \n",
    "    # insert all characters of second string into first \n",
    "    if m==0: \n",
    "         return n \n",
    "  \n",
    "    # If second string is empty, the only option is to \n",
    "    # remove all characters of first string \n",
    "    if n==0: \n",
    "        return m \n",
    "  \n",
    "    # If last characters of two strings are same, nothing \n",
    "    # much to do. Ignore last characters and get count for \n",
    "    # remaining strings. \n",
    "    if str1[m-1]==str2[n-1]: \n",
    "        return editDistance(str1,str2,m-1,n-1) \n",
    "  \n",
    "    # If last characters are not same, consider all three \n",
    "    # operations on last character of first string, recursively \n",
    "    # compute minimum cost for all three operations and take \n",
    "    # minimum of three values. \n",
    "    return 1 + min(editDistance(str1, str2, m, n-1),    # Insert \n",
    "                   editDistance(str1, str2, m-1, n),    # Remove \n",
    "                   editDistance(str1, str2, m-1, n-1)    # Replace \n",
    "                   ) \n",
    "  \n",
    "# Driver program to test the above function \n",
    "\n",
    "start_time = time.time()\n",
    "str1 = \"sundayewwoqodooii\"\n",
    "str2 = \"saturday\"\n",
    "print (editDistance(str1, str2, len(str1), len(str2)) )\n",
    "print (\"My program took\", time.time() - start_time, \"to run\")"
   ]
  },
  {
   "cell_type": "markdown",
   "metadata": {},
   "source": [
    "### Method2: Using Dynamic Programming"
   ]
  },
  {
   "cell_type": "code",
   "execution_count": 6,
   "metadata": {},
   "outputs": [
    {
     "name": "stdout",
     "output_type": "stream",
     "text": [
      "3\n"
     ]
    }
   ],
   "source": [
    "def editDistDP(str1, str2, m, n): \n",
    "    # Create a table to store results of subproblems \n",
    "    dp = [[0 for x in range(n+1)] for x in range(m+1)] \n",
    "  \n",
    "    # Fill d[][] in bottom up manner \n",
    "    for i in range(m+1): \n",
    "        for j in range(n+1): \n",
    "  \n",
    "            # If first string is empty, only option is to \n",
    "            # insert all characters of second string \n",
    "            if i == 0: \n",
    "                dp[i][j] = j    # Min. operations = j \n",
    "  \n",
    "            # If second string is empty, only option is to \n",
    "            # remove all characters of second string \n",
    "            elif j == 0: \n",
    "                dp[i][j] = i    # Min. operations = i \n",
    "  \n",
    "            # If last characters are same, ignore last char \n",
    "            # and recur for remaining string \n",
    "            elif str1[i-1] == str2[j-1]: \n",
    "                dp[i][j] = dp[i-1][j-1] \n",
    "  \n",
    "            # If last character are different, consider all \n",
    "            # possibilities and find minimum \n",
    "            else: \n",
    "                dp[i][j] = 1 + min(dp[i][j-1],        # Insert \n",
    "                                   dp[i-1][j],        # Remove \n",
    "                                   dp[i-1][j-1])    # Replace \n",
    "  \n",
    "    return dp[m][n] \n",
    "  \n",
    "# Driver program \n",
    "str1 = \"sunday\"\n",
    "str2 = \"saturday\"\n",
    "  \n",
    "print(editDistDP(str1, str2, len(str1), len(str2))) \n",
    "# This code is contributed by Bhavya Jain "
   ]
  },
  {
   "cell_type": "markdown",
   "metadata": {},
   "source": [
    "#### Performance for Method 2:"
   ]
  },
  {
   "cell_type": "code",
   "execution_count": 7,
   "metadata": {},
   "outputs": [
    {
     "name": "stdout",
     "output_type": "stream",
     "text": [
      "14\n",
      "My program took 0.0002732276916503906 to run\n"
     ]
    }
   ],
   "source": [
    "start_time = time.time()\n",
    "str1 = \"sundayewwoqodooii\"\n",
    "str2 = \"saturday\"\n",
    "print (editDistDP(str1, str2, len(str1), len(str2)) )\n",
    "print (\"My program took\", time.time() - start_time, \"to run\")"
   ]
  },
  {
   "cell_type": "markdown",
   "metadata": {},
   "source": [
    "#### Run with lru_cache\n",
    "No big improvement anymore since the code has already been optimized."
   ]
  },
  {
   "cell_type": "code",
   "execution_count": 9,
   "metadata": {},
   "outputs": [
    {
     "name": "stdout",
     "output_type": "stream",
     "text": [
      "3\n",
      "14\n",
      "My program took 0.00020885467529296875 to run\n"
     ]
    }
   ],
   "source": [
    "from functools import lru_cache\n",
    "@lru_cache(maxsize=32)\n",
    "def editDistDP(str1, str2, m, n): \n",
    "    # Create a table to store results of subproblems \n",
    "    dp = [[0 for x in range(n+1)] for x in range(m+1)] \n",
    "  \n",
    "    # Fill d[][] in bottom up manner \n",
    "    for i in range(m+1): \n",
    "        for j in range(n+1): \n",
    "  \n",
    "            # If first string is empty, only option is to \n",
    "            # insert all characters of second string \n",
    "            if i == 0: \n",
    "                dp[i][j] = j    # Min. operations = j \n",
    "  \n",
    "            # If second string is empty, only option is to \n",
    "            # remove all characters of second string \n",
    "            elif j == 0: \n",
    "                dp[i][j] = i    # Min. operations = i \n",
    "  \n",
    "            # If last characters are same, ignore last char \n",
    "            # and recur for remaining string \n",
    "            elif str1[i-1] == str2[j-1]: \n",
    "                dp[i][j] = dp[i-1][j-1] \n",
    "  \n",
    "            # If last character are different, consider all \n",
    "            # possibilities and find minimum \n",
    "            else: \n",
    "                dp[i][j] = 1 + min(dp[i][j-1],        # Insert \n",
    "                                   dp[i-1][j],        # Remove \n",
    "                                   dp[i-1][j-1])    # Replace \n",
    "  \n",
    "    return dp[m][n] \n",
    "  \n",
    "# Driver program \n",
    "str1 = \"sunday\"\n",
    "str2 = \"saturday\"\n",
    "  \n",
    "print(editDistDP(str1, str2, len(str1), len(str2))) \n",
    "\n",
    "\n",
    "start_time = time.time()\n",
    "str1 = \"sundayewwoqodooii\"\n",
    "str2 = \"saturday\"\n",
    "print (editDistDP(str1, str2, len(str1), len(str2)) )\n",
    "print (\"My program took\", time.time() - start_time, \"to run\")"
   ]
  },
  {
   "cell_type": "markdown",
   "metadata": {},
   "source": [
    "## Part 2: Generation Candidates with edit distance 1 or 2 "
   ]
  },
  {
   "cell_type": "code",
   "execution_count": 10,
   "metadata": {},
   "outputs": [
    {
     "name": "stdout",
     "output_type": "stream",
     "text": [
      "{'hellou', 'khello', 'helpo', 'hemlo', 'heplo', 'hehlo', 'helldo', 'hellfo', 'hello', 'hellj', 'whello', 'helluo', 'heglo', 'helzlo', 'cello', 'hells', 'hejlo', 'helllo', 'heblo', 'heello', 'heltlo', 'hesllo', 'mhello', 'hewllo', 'hebllo', 'heilo', 'helblo', 'hellh', 'hellb', 'helplo', 'helko', 'helso', 'heillo', 'hellzo', 'hevlo', 'hnello', 'helao', 'helmo', 'heallo', 'helnlo', 'aello', 'hefllo', 'xello', 'hellk', 'dhello', 'hdello', 'qello', 'hhllo', 'hehllo', 'hellon', 'helno', 'helzo', 'hellco', 'eello', 'hvllo', 'hellc', 'helljo', 'dello', 'hullo', 'hkllo', 'hellt', 'hellw', 'heflo', 'hillo', 'helloi', 'helvlo', 'uhello', 'hellol', 'helxlo', 'hepllo', 'herllo', 'helloq', 'fhello', 'helgo', 'hellv', 'helalo', 'hedlo', 'hellao', 'helwlo', 'sello', 'hellqo', 'helto', 'hewlo', 'hfello', 'hellod', 'hexlo', 'helwo', 'hyello', 'henlo', 'hellz', 'helglo', 'hellro', 'htllo', 'hpello', 'vello', 'wello', 'heclo', 'hezllo', 'heljo', 'kello', 'heyllo', 'helqlo', 'hellf', 'heldo', 'zhello', 'hevllo', 'helhlo', 'hellos', 'nello', 'vhello', 'heljlo', 'heldlo', 'hlllo', 'helolo', 'helclo', 'helbo', 'helyo', 'helo', 'tello', 'hetlo', 'helloa', 'fello', 'hwllo', 'healo', 'helle', 'hexllo', 'hecllo', 'haello', 'hsllo', 'hellm', 'lello', 'jello', 'hellho', 'helld', 'helelo', 'hellmo', 'nhello', 'hellwo', 'ihello', 'helloh', 'hdllo', 'herlo', 'helloy', 'jhello', 'hrello', 'henllo', 'hellom', 'helro', 'helco', 'hoello', 'heolo', 'heslo', 'yhello', 'hvello', 'hellpo', 'hjello', 'heullo', 'hellio', 'helloj', 'hellvo', 'hellot', 'gello', 'hetllo', 'hbllo', 'hellop', 'helrlo', 'hbello', 'helloc', 'hellso', 'qhello', 'hxllo', 'hollo', 'helilo', 'hcello', 'hllo', 'hgllo', 'hella', 'heollo', 'helfo', 'hellof', 'hell', 'thello', 'hxello', 'heleo', 'pello', 'hzello', 'hejllo', 'hekllo', 'hellq', 'hellko', 'helslo', 'xhello', 'hellu', 'hyllo', 'helloe', 'helleo', 'phello', 'rello', 'heluo', 'hhello', 'heqlo', 'heylo', 'helli', 'hemllo', 'hezlo', 'ghello', 'lhello', 'heklo', 'helloz', 'hfllo', 'hjllo', 'hzllo', 'helklo', 'hellor', 'ehello', 'iello', 'hnllo', 'htello', 'helvo', 'hedllo', 'helly', 'bhello', 'ohello', 'yello', 'bello', 'hgello', 'helmlo', 'hpllo', 'oello', 'hrllo', 'helxo', 'hegllo', 'hellgo', 'huello', 'hellxo', 'hellox', 'hwello', 'hellok', 'heulo', 'helylo', 'helflo', 'hellr', 'hsello', 'hellog', 'hellow', 'uello', 'hmllo', 'heqllo', 'helln', 'hqello', 'rhello', 'helho', 'hlello', 'helll', 'hellyo', 'helio', 'helulo', 'helloo', 'shello', 'hellob', 'heelo', 'helqo', 'ahello', 'hkello', 'hellov', 'heloo', 'hqllo', 'hiello', 'zello', 'hellbo', 'hellg', 'hcllo', 'hellx', 'hellto', 'ello', 'hellp', 'hellno', 'chello', 'mello', 'hallo', 'hmello'}\n",
      "281\n"
     ]
    }
   ],
   "source": [
    "def generate_edit_one(str):\n",
    "    letters    = 'abcdefghijklmnopqrstuvwxyz'\n",
    "    splits = [(str[:i], str[i:])for i in range(len(str)+1)]\n",
    "    inserts = [L + c + R for L, R in splits for c in letters]\n",
    "    deletes = [L + R[1:] for L, R in splits if R]\n",
    "    replaces = [L + c + R[1:] for L, R in splits if R for c in letters]\n",
    "    \n",
    "    #return set(splits)\n",
    "    return set(inserts + deletes + replaces)\n",
    "print (generate_edit_one(\"hello\")) #output number of e1 candidates\n",
    "print (len(generate_edit_one(\"hello\"))) #output the whole list of e1 candidates"
   ]
  },
  {
   "cell_type": "code",
   "execution_count": 14,
   "metadata": {},
   "outputs": [
    {
     "name": "stdout",
     "output_type": "stream",
     "text": [
      "86524\n"
     ]
    }
   ],
   "source": [
    "def generate_edit_two(str):\n",
    "\n",
    "    return [e2 for e1 in generate_edit_one(str) for e2 in generate_edit_one(e1)]\n",
    "\n",
    "print (len(generate_edit_two(\"hello\")))\n",
    "#print (generate_edit_two(\"hello\"))"
   ]
  },
  {
   "cell_type": "code",
   "execution_count": 16,
   "metadata": {},
   "outputs": [
    {
     "name": "stdout",
     "output_type": "stream",
     "text": [
      "281\n",
      "86524\n"
     ]
    }
   ],
   "source": [
    "one_distance=generate_edit_one(\"apple\")\n",
    "two_distance=[]\n",
    "for i in one_distance:\n",
    "    two_distance.append(list(generate_edit_one(i)))\n",
    "    \n",
    "print (len(two_distance))\n",
    "result = [item for sublist in two_distance for item in sublist] ## this is basically flatten a list with list elements\n",
    "print (len(result))"
   ]
  },
  {
   "cell_type": "code",
   "execution_count": null,
   "metadata": {},
   "outputs": [],
   "source": []
  }
 ],
 "metadata": {
  "kernelspec": {
   "display_name": "Python 3",
   "language": "python",
   "name": "python3"
  },
  "language_info": {
   "codemirror_mode": {
    "name": "ipython",
    "version": 3
   },
   "file_extension": ".py",
   "mimetype": "text/x-python",
   "name": "python",
   "nbconvert_exporter": "python",
   "pygments_lexer": "ipython3",
   "version": "3.6.8"
  }
 },
 "nbformat": 4,
 "nbformat_minor": 2
}
